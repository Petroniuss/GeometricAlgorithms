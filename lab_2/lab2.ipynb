{
 "cells": [
  {
   "cell_type": "markdown",
   "metadata": {
    "collapsed": true
   },
   "source": [
    "# Laboratorium 2\n"
   ]
  },
  {
   "cell_type": "markdown",
   "metadata": {},
   "source": [
    "### Konfiguracja"
   ]
  },
  {
   "cell_type": "code",
   "execution_count": null,
   "metadata": {
    "pycharm": {
     "is_executing": false
    }
   },
   "outputs": [],
   "source": [
    "from typing import List, Any, Union, Tuple\n",
    "import numpy as np\n",
    "import matplotlib.pyplot as plt\n",
    "import matplotlib.collections as mcoll\n",
    "import matplotlib.colors as mcolors\n",
    "from matplotlib.widgets import Button\n",
    "import json as js\n",
    "\n",
    "import random\n",
    "from time import sleep\n",
    "\n",
    "class _Button_callback(object):\n",
    "    def __init__(self, scenes):\n",
    "        self.i = 0\n",
    "        self.scenes = scenes\n",
    "\n",
    "    def set_axis(self, ax):\n",
    "        self.ax = ax\n",
    "        \n",
    "    def next(self, event):\n",
    "        self.i = (self.i + 1) % len(self.scenes)\n",
    "        self.draw()\n",
    "\n",
    "    def prev(self, event):\n",
    "        self.i = (self.i - 1) % len(self.scenes)\n",
    "        self.draw()\n",
    "        \n",
    "    def draw(self):\n",
    "        self.ax.clear()\n",
    "        for collection in self.scenes[self.i].points:\n",
    "            if len(collection.points) > 0:\n",
    "                self.ax.scatter(*zip(*(np.array(collection.points))), c=collection.color, marker=collection.marker)\n",
    "        for collection in self.scenes[self.i].lines:\n",
    "            self.ax.add_collection(collection.get_collection())\n",
    "        self.ax.autoscale()\n",
    "        plt.draw()"
   ]
  },
  {
   "cell_type": "markdown",
   "metadata": {},
   "source": [
    "### Interfejsy\n",
    "\n",
    "[Dostępne kolory](https://matplotlib.org/3.1.1/gallery/color/named_colors.html)\n",
    "\n",
    "[Dostępne znaczniki punktów](https://matplotlib.org/3.1.1/api/markers_api.html#module-matplotlib.markers)"
   ]
  },
  {
   "cell_type": "code",
   "execution_count": null,
   "metadata": {
    "pycharm": {
     "is_executing": false
    }
   },
   "outputs": [],
   "source": [
    "class Scene:\n",
    "    def __init__(self, points=[], lines=[]):\n",
    "        self.points=points\n",
    "        self.lines=lines\n",
    "\n",
    "class PointsCollection:\n",
    "    def __init__(self, points = [], color = None, marker = None):\n",
    "        self.points = np.array(points)\n",
    "        self.color = color\n",
    "        self.marker = marker\n",
    "\n",
    "class LinesCollection:\n",
    "    def __init__(self, lines = [], color = None):\n",
    "        self.color = color\n",
    "        self.lines = lines\n",
    "        \n",
    "    def add(self, line):\n",
    "        self.lines.append(line)\n",
    "        \n",
    "    def get_collection(self):\n",
    "        if self.color:\n",
    "            return mcoll.LineCollection(self.lines, colors=mcolors.to_rgba(self.color))\n",
    "        else:\n",
    "            return mcoll.LineCollection(self.lines)\n",
    "            \n",
    "\n",
    "\n",
    "class Plot:\n",
    "    def __init__(self, scenes = [], json = None):\n",
    "        if json is None:\n",
    "            self.scenes = scenes\n",
    "        else:\n",
    "            self.scenes = [Scene([PointsCollection(pointsCol) for pointsCol in scene[\"points\"]], \n",
    "                                 [LinesCollection(linesCol) for linesCol in scene[\"lines\"]]) \n",
    "                           for scene in js.loads(json)]\n",
    "        \n",
    "    def __configure_buttons(self, callback):\n",
    "        plt.subplots_adjust(bottom=0.2)\n",
    "        axprev = plt.axes([0.6, 0.05, 0.15, 0.075])\n",
    "        axnext = plt.axes([0.76, 0.05, 0.15, 0.075])\n",
    "        bnext = Button(axnext, 'Następny')\n",
    "        bnext.on_clicked(callback.next)\n",
    "        bprev = Button(axprev, 'Poprzedni')\n",
    "        bprev.on_clicked(callback.prev)\n",
    "        return [bprev, bnext]\n",
    "\n",
    "    def draw(self):\n",
    "        plt.close()\n",
    "        callback = _Button_callback(self.scenes)\n",
    "        self.widgets = self.__configure_buttons(callback)\n",
    "        callback.set_axis(plt.axes())\n",
    "        plt.show()\n",
    "        callback.draw()\n",
    "        \n",
    "    def toJSON(self):\n",
    "        return js.dumps([{\"points\": [pointCol.points.tolist() for pointCol in scene.points], \n",
    "                          \"lines\":[linesCol.lines for linesCol in scene.lines]} \n",
    "                         for scene in self.scenes])\n",
    "    "
   ]
  },
  {
   "cell_type": "markdown",
   "metadata": {},
   "source": [
    "### Przykład użycia"
   ]
  },
  {
   "cell_type": "code",
   "execution_count": null,
   "metadata": {
    "pycharm": {
     "is_executing": false
    }
   },
   "outputs": [],
   "source": [
    "%matplotlib notebook\n",
    "\n",
    "scenes=[Scene([PointsCollection([(1, 2), (3, 1.5), (2, -1)]), \n",
    "               PointsCollection([(5, -2), (2, 2), (-2, -1)], 'green', marker = \"^\")], \n",
    "              [LinesCollection([[(1,2),(2,3)], [(0,1),(1,0)]], 'orange')]), \n",
    "        Scene([PointsCollection([(1, 2), (-15, 1.5), (2, -1)], 'red'), \n",
    "               PointsCollection([(5, -2), (2, 2), (-2, 1)], 'black')], \n",
    "              [LinesCollection([[(-1,2),(-2,3)], [(0,-1),(-1,0)]])])]\n",
    "\n",
    "plot = Plot(scenes)\n",
    "plot.draw() \n"
   ]
  },
  {
   "cell_type": "markdown",
   "metadata": {},
   "source": [
    "### Klasa Vector reprezentuje podstawowy typ na którym wykonujemy obliczenia"
   ]
  },
  {
   "cell_type": "code",
   "execution_count": null,
   "metadata": {
    "pycharm": {
     "is_executing": false
    }
   },
   "outputs": [],
   "source": [
    "from random import choice\n",
    "from random import random\n",
    "\n",
    "import math\n",
    "\n",
    "class Vector:\n",
    "    def __init__(self, x, y):\n",
    "        self.x = x\n",
    "        self.y = y\n",
    "        \n",
    "    def __eq__(self, other):\n",
    "        return self.x == other.x and self.y == other.y\n",
    "\n",
    "    def len(self):\n",
    "        return math.sqrt(math.pow(self.x, 2) + math.pow(self.y, 2))\n",
    "\n",
    "    def to_unit_vector(self):\n",
    "        length = self.len()\n",
    "        \n",
    "        return Vector(self.x / length, self.y / length)\n",
    "    \n",
    "    def to_point(self):\n",
    "        return self.x, self.y\n",
    "    \n",
    "    def subtract(self, other):\n",
    "        return Vector(self.x - other.x, self.y - other.y)\n",
    "        \n",
    "    def add(self, other):\n",
    "        return Vector(self.x + other.x, self.y + other.y)\n",
    "        \n",
    "    def scale(self, to_length):\n",
    "        a = to_length / self.len()\n",
    "        \n",
    "        return Vector(a * self.x, a * self.y)\n",
    "    \n",
    "    def dot_product(self, other):\n",
    "        return self.x * other.x + self.y * other.y\n",
    "    "
   ]
  },
  {
   "cell_type": "markdown",
   "metadata": {
    "pycharm": {
     "name": "#%% md\n"
    }
   },
   "source": [
    "## Funkcje generujące zbiory z punktu 3."
   ]
  },
  {
   "cell_type": "code",
   "execution_count": null,
   "metadata": {
    "pycharm": {
     "is_executing": false,
     "name": "#%%\n"
    }
   },
   "outputs": [],
   "source": [
    "def generate_point_on_line(pt_a: Vector, pt_b: Vector):\n",
    "    if pt_b.x - pt_a.x == 0:\n",
    "        r = math.fabs(pt_b.y - pt_a.y)\n",
    "        \n",
    "        x = pt_a.x\n",
    "        y = min(pt_a.y, pt_b.y) + random() * r\n",
    "        \n",
    "        return Vector(x, y).to_point()   \n",
    "    \n",
    "    a = (pt_b.y - pt_a.y) / (pt_b.x - pt_a.x)\n",
    "    b = pt_a.y - a * pt_a.x\n",
    "    \n",
    "    r = math.fabs(pt_b.x - pt_a.x)\n",
    "    \n",
    "    x = min(pt_a.x, pt_b.x) + random() * r\n",
    "    y = a * x + b\n",
    "        \n",
    "    return Vector(x, y).to_point()\n",
    "\n",
    "def random_set_a(n, lower, upper):\n",
    "    points = []\n",
    "    r = upper - lower\n",
    "    \n",
    "    for i in range(n):\n",
    "        x = random() * r + lower\n",
    "        y = random() * r + lower\n",
    "        point = (x, y)\n",
    "        \n",
    "        points.append(point)\n",
    "        \n",
    "    return points\n",
    "\n",
    "def random_set_b(n, center: Vector, radius):\n",
    "    points = []\n",
    "    \n",
    "    for i in range(n):\n",
    "        t = random() * 2 * math.pi\n",
    "        x = radius * math.cos(t) + center.x\n",
    "        y = radius * math.sin(t) + center.y\n",
    "        \n",
    "        point = (x, y)\n",
    "        points.append(point)\n",
    "        \n",
    "    return points\n",
    "\n",
    "def random_set_c(n, a: Vector, b: Vector, c: Vector, d: Vector):\n",
    "    points = []\n",
    "    possibilities = [(a, b), (b, c), (c, d), (a, d)]\n",
    "         \n",
    "    for i in range(n):\n",
    "        (start, end) = choice(possibilities)        \n",
    "        \n",
    "        point = generate_point_on_line(start, end)\n",
    "        points.append(point)\n",
    "    \n",
    "    return points\n",
    "\n",
    "### This function takes only one vertex to identify a square - it's done to make sure we have points on axes.\n",
    "def random_set_d(n_desc_diagonal, n_asc_diagonal, n_axis_x, n_axis_y, upper_right: Vector):\n",
    "    lower_left = Vector(0.0, 0.0)\n",
    "    upper_left = Vector(lower_left.x, upper_right.y)\n",
    "    lower_right = Vector(upper_right.x, lower_left.y)\n",
    "    \n",
    "    points = [ lower_left.to_point(), lower_right.to_point(),\n",
    "               upper_left.to_point(), upper_right.to_point() ]\n",
    "        \n",
    "    for i in range(n_axis_x):\n",
    "        (a, b) = (lower_left, lower_right)\n",
    "        point = generate_point_on_line(a, b)\n",
    "        \n",
    "        points.append(point)\n",
    "        \n",
    "    for i in range(n_axis_y):\n",
    "        (a, b) = (lower_left, upper_left)\n",
    "        point = generate_point_on_line(a, b)\n",
    "        \n",
    "        points.append(point)\n",
    "        \n",
    "    for i in range(n_desc_diagonal):\n",
    "        (a, b) = (upper_left, lower_right)\n",
    "        point = generate_point_on_line(a, b)\n",
    "        \n",
    "        points.append(point)\n",
    "    \n",
    "    for i in range(n_asc_diagonal):\n",
    "        (a, b) = (lower_left, upper_right)\n",
    "        point = generate_point_on_line(a, b)\n",
    "        \n",
    "        points.append(point)\n",
    "    \n",
    "    return points\n"
   ]
  },
  {
   "cell_type": "markdown",
   "metadata": {},
   "source": [
    "## Zbiory z punktu 1."
   ]
  },
  {
   "cell_type": "code",
   "execution_count": null,
   "metadata": {
    "pycharm": {
     "is_executing": false,
     "name": "#%%\n"
    }
   },
   "outputs": [],
   "source": [
    "points_a = random_set_a(100, -100, 100)\n",
    "points_b = random_set_b(100, Vector(0, 0), 10)\n",
    "points_c = random_set_c(100, Vector(-10, 10), Vector(-10, -10), Vector(10, -10), Vector(10, 10))\n",
    "points_d = random_set_d(20, 20, 25, 25, Vector(10.0, 10.0))"
   ]
  },
  {
   "cell_type": "markdown",
   "metadata": {
    "pycharm": {
     "name": "#%% md\n"
    }
   },
   "source": [
    "### Graficzna wizualizacja wyznaczonych zbiorów - punkt 2."
   ]
  },
  {
   "cell_type": "code",
   "execution_count": null,
   "metadata": {
    "pycharm": {
     "is_executing": false,
     "name": "#%%\n"
    }
   },
   "outputs": [],
   "source": [
    "%matplotlib notebook\n",
    "\n",
    "scenes = [\n",
    "    Scene([PointsCollection(points_a)]),\n",
    "    Scene([PointsCollection(points_b)]),\n",
    "    Scene([PointsCollection(points_c)]),\n",
    "    Scene([PointsCollection(points_d)]),\n",
    "]\n",
    "\n",
    "plot = Plot(scenes)\n",
    "plot.draw()"
   ]
  },
  {
   "cell_type": "markdown",
   "metadata": {
    "pycharm": {
     "name": "#%% md\n"
    }
   },
   "source": [
    "## Implementacja algorytmów szukających otoczki wypukłej:\n",
    "   - Algorytm Jarvisa\n",
    "   - Algorytm Grahama\n",
    "\n",
    "\n",
    "### Funkcje pomocniczne"
   ]
  },
  {
   "cell_type": "code",
   "execution_count": null,
   "metadata": {
    "pycharm": {
     "is_executing": false,
     "name": "#%%\n"
    }
   },
   "outputs": [],
   "source": [
    "import functools\n",
    "\n",
    "def choose_lower_left(points):\n",
    "    idx = 0\n",
    "    p = points[idx]\n",
    "    \n",
    "    for (i, (x, y)) in enumerate(points):\n",
    "        if (y < p[1]) or (y == p[1] and x < p[0]):   \n",
    "            p = (x, y)\n",
    "            idx = i\n",
    "            \n",
    "    return idx\n",
    "\n",
    "def det(a, b, c):\n",
    "    return a[0] * b[1] + a[1] * c[0] + b[0] * c[1] - b[1] * c[0] - a[0] * c[1] - a[1] * b[0]\n",
    "\n",
    "def square_dist(a, b):\n",
    "    return math.sqrt(math.pow(a[0] - b[0], 2) + math.pow(a[1] - b[1], 2))\n",
    "\n",
    "def qsort(table, l, r, comparator):\n",
    "    if l == r:\n",
    "        return\n",
    "    \n",
    "    m = (l+r) // 2\n",
    "    pivot = table[m]\n",
    "    j = l\n",
    "    table[r-1], table[m] = table[m], table[r-1]\n",
    "    \n",
    "    for i in range(l, r - 1):\n",
    "        if comparator(table[i], pivot):\n",
    "            table[i], table[j] = table[j], table[i]\n",
    "            j += 1\n",
    "    \n",
    "    table[r-1], table[j] = table[j], table[r-1]\n",
    "    \n",
    "    qsort(table, l, j, comparator)\n",
    "    qsort(table, j + 1, r, comparator)\n",
    "\n",
    "def comparator(b, c, a, epsylon):\n",
    "    d = det(a, b, c)\n",
    "    diff = math.fabs(d - epsylon)\n",
    "    \n",
    "    if diff < epsylon:\n",
    "        return square_dist(a, b) < square_dist(a, c)\n",
    "    else:\n",
    "        return d > epsylon"
   ]
  },
  {
   "cell_type": "markdown",
   "metadata": {
    "pycharm": {
     "name": "#%% md\n"
    }
   },
   "source": [
    "### Graham"
   ]
  },
  {
   "cell_type": "code",
   "execution_count": null,
   "metadata": {
    "pycharm": {
     "is_executing": false,
     "name": "#%%\n"
    }
   },
   "outputs": [],
   "source": [
    "import time\n",
    "\n",
    "def graham(points, epsylon):\n",
    "    start = time.time()\n",
    "    p0 = points[choose_lower_left(points)]\n",
    "    \n",
    "    comp = functools.partial(comparator, a = p0, epsylon = epsylon)\n",
    "    qsort(points, 0, len(points), comp)\n",
    "    \n",
    "    p1, p2, left = points[1], points[2], points[3:]    \n",
    "    stack = [p0, p1, p2]\n",
    "    \n",
    "    i, n = 0, len(left)\n",
    "    while i < n:\n",
    "        p = left[i]\n",
    "        if det(stack[-2], stack[-1], p) > epsylon:\n",
    "            stack.append(p)\n",
    "            i = i + 1\n",
    "        elif det(stack[-2], stack[-1], p) <= epsylon and det(stack[-2], stack[-1], p) >= -epsylon:\n",
    "            stack.pop()\n",
    "            stack.append(p)\n",
    "            i = i + 1\n",
    "        else:\n",
    "            stack.pop()\n",
    "\n",
    "    end = time.time()\n",
    "    total = end - start\n",
    "\n",
    "    return stack, total"
   ]
  },
  {
   "cell_type": "markdown",
   "metadata": {
    "pycharm": {
     "name": "#%% md\n"
    }
   },
   "source": [
    "### Jarvis"
   ]
  },
  {
   "cell_type": "code",
   "execution_count": null,
   "metadata": {
    "pycharm": {
     "is_executing": false,
     "name": "#%%\n"
    }
   },
   "outputs": [],
   "source": [
    "def jarvis(points, epsylon):\n",
    "    start = time.time()\n",
    "    N = choose_lower_left(points)\n",
    "    convex_hull = []\n",
    "    \n",
    "    p = N\n",
    "    \n",
    "    while True:\n",
    "        convex_hull.append(points[p])\n",
    "        q = (p + 1) % len(points)\n",
    "                \n",
    "        for i, pnt in enumerate(points):\n",
    "            if i != p and i != q:\n",
    "                d = det(points[p], points[q], pnt)\n",
    "                \n",
    "                if d < -epsylon:\n",
    "                    q = i\n",
    "                elif -epsylon <= d <= epsylon:\n",
    "                    if square_dist(points[p], points[q]) < square_dist(points[p], pnt):\n",
    "                        q = i\n",
    "         \n",
    "        p = q\n",
    "        if p == N:\n",
    "            break\n",
    "            \n",
    "    end = time.time()\n",
    "    total = end - start\n",
    "    \n",
    "    return convex_hull, total"
   ]
  },
  {
   "cell_type": "markdown",
   "metadata": {
    "pycharm": {
     "is_executing": false,
     "name": "#%% md\n"
    }
   },
   "source": [
    "### Funkcje pomocnicze służące do wizualizacji:\n",
    "- visualize: wyzancza otoczkę wpukłą używając najpierw Jarvisa następnie Grahama, wypisuje czasy działania.\n",
    "- save: zapisuje wyznaczoną otoczkę "
   ]
  },
  {
   "cell_type": "code",
   "execution_count": null,
   "metadata": {
    "pycharm": {
     "is_executing": false,
     "name": "#%% \n"
    }
   },
   "outputs": [],
   "source": [
    "%matplotlib notebook\n",
    "import pickle\n",
    "\n",
    "def connect_convex_hull(convex_hull):\n",
    "    lines = []\n",
    "    for k, end in enumerate(convex_hull):\n",
    "        i = k - 1\n",
    "        if k == 0:\n",
    "            i = len(convex_hull) - 1\n",
    "        \n",
    "        start = convex_hull[i]\n",
    "        lines.append([start, end])\n",
    "        \n",
    "    return lines\n",
    "\n",
    "def get_lines(set):\n",
    "    if len(set) < 2:\n",
    "        return []\n",
    "    \n",
    "    lines = []\n",
    "    for i, pt in enumerate(set[1:]):\n",
    "        pnt = set[i]\n",
    "        lines.append([pnt, pt])\n",
    "    \n",
    "    return lines\n",
    "\n",
    "def create_scene(set, convex_hull):\n",
    "    lines = connect_convex_hull(convex_hull)\n",
    "    \n",
    "    return Scene([\n",
    "            PointsCollection(set, 'blue'),\n",
    "            PointsCollection(convex_hull, 'red')\n",
    "        ], [LinesCollection(lines, color=\"red\")])\n",
    "    \n",
    "def visualize(set, epsylon):\n",
    "    ch_jarvis, jarvis_time = jarvis(set, epsylon)\n",
    "    ch_graham, graham_time = graham(set, epsylon)\n",
    "    print(\"Jarvis: running time - {0}s \\nGraham - running time - {1}s\".format(jarvis_time, graham_time))\n",
    "    \n",
    "    jarvis_scene = create_scene(set, ch_jarvis)\n",
    "    graham_scene = create_scene(set, ch_graham)\n",
    "    scenes = [jarvis_scene, graham_scene]\n",
    "\n",
    "    plot = Plot(scenes)\n",
    "    plot.draw() \n",
    "\n",
    "def save(set, filename = \"convex_hull\"):\n",
    "    with open(filename, 'wb') as handle:\n",
    "        pickle.dump(set, handle, protocol = pickle.HIGHEST_PROTOCOL)\n",
    "\n",
    "epsylon = 10**(-6)"
   ]
  },
  {
   "cell_type": "markdown",
   "metadata": {
    "pycharm": {
     "is_executing": false,
     "name": "#%% md\n"
    }
   },
   "source": [
    "### Testowanie wyników działania algorytmów "
   ]
  },
  {
   "cell_type": "code",
   "execution_count": null,
   "metadata": {
    "pycharm": {
     "is_executing": false,
     "name": "#%%\n"
    }
   },
   "outputs": [],
   "source": [
    "set = points_a\n",
    "visualize(set, epsylon)"
   ]
  },
  {
   "cell_type": "code",
   "execution_count": null,
   "metadata": {
    "pycharm": {
     "is_executing": false,
     "name": "#%%\n"
    }
   },
   "outputs": [],
   "source": [
    "set = points_b\n",
    "visualize(set, epsylon)"
   ]
  },
  {
   "cell_type": "code",
   "execution_count": null,
   "metadata": {
    "pycharm": {
     "is_executing": false,
     "name": "#%%\n"
    }
   },
   "outputs": [],
   "source": [
    "set = points_c\n",
    "visualize(set, epsylon)"
   ]
  },
  {
   "cell_type": "code",
   "execution_count": null,
   "metadata": {
    "pycharm": {
     "is_executing": false,
     "name": "#%%\n"
    }
   },
   "outputs": [],
   "source": [
    "set = points_d\n",
    "visualize(set, epsylon)"
   ]
  },
  {
   "cell_type": "markdown",
   "metadata": {
    "pycharm": {
     "name": "#%% md\n"
    }
   },
   "source": [
    "### Dodatkowe zbiory"
   ]
  },
  {
   "cell_type": "code",
   "execution_count": null,
   "metadata": {
    "pycharm": {
     "is_executing": false,
     "name": "#%%\n"
    },
    "scrolled": true
   },
   "outputs": [],
   "source": [
    "set = random_set_a(10 ** 5, 0.0, 10**9)\n",
    "visualize(set, epsylon)"
   ]
  },
  {
   "cell_type": "code",
   "execution_count": null,
   "metadata": {
    "pycharm": {
     "is_executing": false,
     "name": "#%%\n"
    }
   },
   "outputs": [],
   "source": [
    "set = random_set_d(50, 50, 50, 50, Vector(100.0, 100.0))\n",
    "visualize(set, epsylon)"
   ]
  },
  {
   "cell_type": "code",
   "execution_count": null,
   "metadata": {
    "pycharm": {
     "is_executing": false,
     "name": "#%%\n"
    }
   },
   "outputs": [],
   "source": [
    "set = random_set_b(10 ** 3, Vector(0.0, 0.0), 1000)\n",
    "visualize(set, epsylon)"
   ]
  },
  {
   "cell_type": "markdown",
   "metadata": {
    "pycharm": {
     "name": "#%% md\n"
    }
   },
   "source": [
    "### Metody pomocniczne służące do wizualizacji działania algorytmu"
   ]
  },
  {
   "cell_type": "code",
   "execution_count": null,
   "metadata": {
    "pycharm": {
     "is_executing": false,
     "name": "#%%\n"
    }
   },
   "outputs": [],
   "source": [
    "def visualize_jarvis(points, epsylon):\n",
    "    N = choose_lower_left(points)\n",
    "    convex_hull = []\n",
    "    \n",
    "    p = N\n",
    "    pointsCollection = PointsCollection(points, 'gray')\n",
    "    \n",
    "    while True:\n",
    "        convex_hull.append(points[p])\n",
    "        q = (p + 1) % len(points)\n",
    "                \n",
    "        for i, pnt in enumerate(points):\n",
    "            yield Scene([\n",
    "                pointsCollection, PointsCollection(convex_hull, 'red')],\n",
    "            [\n",
    "                LinesCollection(get_lines(convex_hull), 'red'),\n",
    "                LinesCollection([[points[p], points[q]]], 'orange'),\n",
    "                LinesCollection([[points[q], points[i]]], 'yellow')\n",
    "            ])\n",
    "            \n",
    "            if i != p and i != q:\n",
    "                d = det(points[p], points[q], pnt)\n",
    "                \n",
    "                if d < -epsylon:\n",
    "                    q = i\n",
    "                elif -epsylon <= d <= epsylon:\n",
    "                    if square_dist(points[p], points[q]) < square_dist(points[p], pnt):\n",
    "                        q = i\n",
    "         \n",
    "        p = q\n",
    "        if p == N:\n",
    "            break\n",
    "            \n",
    "    yield Scene([pointsCollection, PointsCollection(convex_hull, 'red')], [\n",
    "        LinesCollection(connect_convex_hull(points), 'red')\n",
    "    ])"
   ]
  },
  {
   "cell_type": "code",
   "execution_count": null,
   "metadata": {
    "pycharm": {
     "is_executing": false,
     "name": "#%%\n"
    }
   },
   "outputs": [],
   "source": [
    "def visualize_graham(points, eps):\n",
    "    p0 = points[choose_lower_left(points)]\n",
    "    \n",
    "    comp = functools.partial(comparator, a = p0, epsylon = epsylon)\n",
    "    qsort(points, 0, len(points), comp)\n",
    "    \n",
    "    p1, p2, left = points[1], points[2], points[3:]\n",
    "    \n",
    "    stack = [p0, p1, p2]\n",
    "    points_collection = PointsCollection(points, 'gray')\n",
    "    i, n = 0, len(left)\n",
    "    \n",
    "    while i < n:\n",
    "        p = left[i]\n",
    "        \n",
    "        yield Scene([\n",
    "                points_collection,\n",
    "                PointsCollection(stack, 'red'),\n",
    "            ], [ \n",
    "                LinesCollection(get_lines(stack), 'red'),\n",
    "                LinesCollection([[stack[-1], p]], 'orange')\n",
    "            ])\n",
    "        \n",
    "        if det(stack[-2], stack[-1], p) > eps:\n",
    "            stack.append(p)\n",
    "            i = i + 1\n",
    "        elif det(stack[-2], stack[-1], p) <= eps and det(stack[-2], stack[-1], p) >= -eps:\n",
    "            stack.pop()\n",
    "            stack.append(p)\n",
    "            i = i + 1\n",
    "        else:\n",
    "            stack.pop()\n",
    "\n",
    "    yield Scene([ points_collection,\n",
    "                  PointsCollection(stack, 'red'), ],\n",
    "                [\n",
    "         LinesCollection(get_lines(stack).append([stack[0], stack[-1]]), 'red') \n",
    "    ])\n"
   ]
  },
  {
   "cell_type": "markdown",
   "metadata": {
    "pycharm": {
     "is_executing": false,
     "name": "#%% md\n"
    }
   },
   "source": [
    "## Wizualizacja działania aglorytmów\n",
    "\n",
    "### Legenda\n",
    "#### Punkty\n",
    "- szare - punkty zbioru\n",
    "- czerwone - należące do otoczki\n",
    "#### Linie\n",
    "- czerwona - łącząca punkty wyznacznej otoczki\n",
    "- pomarańczowa - potencjalna krawędź otoczki\n",
    "- żółta - krawędź łączące aktualnie sprawdzane punkty\n"
   ]
  },
  {
   "cell_type": "code",
   "execution_count": null,
   "metadata": {
    "pycharm": {
     "is_executing": false,
     "name": "#%%\n"
    }
   },
   "outputs": [],
   "source": [
    "generator = visualize_jarvis(points_a, epsylon)\n",
    "scenes = list(generator)\n",
    "\n",
    "plot = Plot(scenes)\n",
    "plot.draw() "
   ]
  },
  {
   "cell_type": "code",
   "execution_count": null,
   "metadata": {
    "pycharm": {
     "is_executing": false,
     "name": "#%%\n"
    }
   },
   "outputs": [],
   "source": [
    "generator = visualize_graham(points_a,epsylon)\n",
    "scenes = list(generator)\n",
    "\n",
    "plot = Plot(scenes)\n",
    "plot.draw() "
   ]
  },
  {
   "cell_type": "code",
   "execution_count": null,
   "metadata": {},
   "outputs": [],
   "source": []
  },
  {
   "cell_type": "code",
   "execution_count": null,
   "metadata": {},
   "outputs": [],
   "source": []
  }
 ],
 "metadata": {
  "kernelspec": {
   "display_name": "Python 3",
   "language": "python",
   "name": "python3"
  },
  "language_info": {
   "codemirror_mode": {
    "name": "ipython",
    "version": 3
   },
   "file_extension": ".py",
   "mimetype": "text/x-python",
   "name": "python",
   "nbconvert_exporter": "python",
   "pygments_lexer": "ipython3",
   "version": "3.7.5"
  },
  "pycharm": {
   "stem_cell": {
    "cell_type": "raw",
    "metadata": {
     "collapsed": false
    },
    "source": []
   }
  }
 },
 "nbformat": 4,
 "nbformat_minor": 1
}
